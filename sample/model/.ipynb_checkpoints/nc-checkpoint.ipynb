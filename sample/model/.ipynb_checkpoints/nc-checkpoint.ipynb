{
 "cells": [
  {
   "cell_type": "code",
   "execution_count": 2,
   "id": "initial_id",
   "metadata": {
    "collapsed": true,
    "ExecuteTime": {
     "end_time": "2023-11-22T12:35:42.991492400Z",
     "start_time": "2023-11-22T12:35:42.977492600Z"
    }
   },
   "outputs": [
    {
     "name": "stdout",
     "output_type": "stream",
     "text": [
      "<xarray.Dataset>\n",
      "Dimensions:    (lon: 86400, lat: 43200)\n",
      "Coordinates:\n",
      "  * lon        (lon) float64 -180.0 -180.0 -180.0 -180.0 ... 180.0 180.0 180.0\n",
      "  * lat        (lat) float64 -90.0 -89.99 -89.99 -89.99 ... 89.99 89.99 90.0\n",
      "Data variables:\n",
      "    crs        |S1 ...\n",
      "    elevation  (lat, lon) int16 ...\n",
      "Attributes: (12/36)\n",
      "    title:                           The GEBCO_2023 Grid - a continuous terra...\n",
      "    summary:                         The GEBCO_2023 Grid is a continuous, glo...\n",
      "    keywords:                        BATHYMETRY/SEAFLOOR TOPOGRAPHY, DIGITAL ...\n",
      "    Conventions:                     CF-1.6, ACDD-1.3\n",
      "    id:                              DOI: 10.5285/f98b053b-0cbc-6c23-e053-6c8...\n",
      "    naming_authority:                https://dx.doi.org\n",
      "    ...                              ...\n",
      "    geospatial_vertical_units:       meters\n",
      "    geospatial_vertical_resolution:  1.0\n",
      "    geospatial_vertical_positive:    up\n",
      "    identifier_product_doi:          DOI: 10.5285/f98b053b-0cbc-6c23-e053-6c8...\n",
      "    references:                      DOI: 10.5285/f98b053b-0cbc-6c23-e053-6c8...\n",
      "    node_offset:                     1.0\n"
     ]
    }
   ],
   "source": [
    "import numpy as np\n",
    "import pandas as pd\n",
    "import matplotlib.pyplot as plt\n",
    "plt.rcParams['font.sans-serif']=['SimHei'] #显示中文标签\n",
    "plt.rcParams['axes.unicode_minus']=False   #这两行需要手动设置\n",
    "import xarray as xr\n",
    "ds = xr.open_dataset(r'D:/software/Python/PythonProject/seamounts_edge_detection/sample/data/GEBCO_2023.nc')\n",
    "print(ds)"
   ]
  },
  {
   "cell_type": "code",
   "execution_count": null,
   "outputs": [],
   "source": [],
   "metadata": {
    "collapsed": false
   },
   "id": "1a23835a316307bc"
  }
 ],
 "metadata": {
  "kernelspec": {
   "display_name": "Python 3",
   "language": "python",
   "name": "python3"
  },
  "language_info": {
   "codemirror_mode": {
    "name": "ipython",
    "version": 2
   },
   "file_extension": ".py",
   "mimetype": "text/x-python",
   "name": "python",
   "nbconvert_exporter": "python",
   "pygments_lexer": "ipython2",
   "version": "2.7.6"
  }
 },
 "nbformat": 4,
 "nbformat_minor": 5
}
